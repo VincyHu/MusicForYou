{
 "cells": [
  {
   "cell_type": "markdown",
   "metadata": {},
   "source": [
    "To scrap data via python, let's use the python package \"spotipy\" for spotify in the following url:"
   ]
  },
  {
   "cell_type": "markdown",
   "metadata": {},
   "source": [
    "https://spotipy.readthedocs.io/en/2.9.0/#getting-started"
   ]
  },
  {
   "cell_type": "markdown",
   "metadata": {},
   "source": [
    "https://github.com/juandes/spotify-audio-features-data-experiment/blob/master/get_data.py"
   ]
  },
  {
   "cell_type": "code",
   "execution_count": 2,
   "metadata": {},
   "outputs": [
    {
     "name": "stdout",
     "output_type": "stream",
     "text": [
      "Collecting spotipy\n",
      "  Downloading https://files.pythonhosted.org/packages/ea/39/8efecac5a29cb7092788c11e6dff46087bfe716663ce7b85fd7d34e85c6e/spotipy-2.10.0-py3-none-any.whl\n",
      "Requirement already satisfied: six>=1.10.0 in c:\\users\\86136\\anaconda3\\lib\\site-packages (from spotipy) (1.12.0)\n",
      "Requirement already satisfied: requests>=2.20.0 in c:\\users\\86136\\anaconda3\\lib\\site-packages (from spotipy) (2.22.0)\n",
      "Requirement already satisfied: chardet<3.1.0,>=3.0.2 in c:\\users\\86136\\anaconda3\\lib\\site-packages (from requests>=2.20.0->spotipy) (3.0.4)\n",
      "Requirement already satisfied: idna<2.9,>=2.5 in c:\\users\\86136\\anaconda3\\lib\\site-packages (from requests>=2.20.0->spotipy) (2.8)\n",
      "Requirement already satisfied: certifi>=2017.4.17 in c:\\users\\86136\\anaconda3\\lib\\site-packages (from requests>=2.20.0->spotipy) (2019.11.28)\n",
      "Requirement already satisfied: urllib3!=1.25.0,!=1.25.1,<1.26,>=1.21.1 in c:\\users\\86136\\anaconda3\\lib\\site-packages (from requests>=2.20.0->spotipy) (1.24.2)\n",
      "Installing collected packages: spotipy\n",
      "Successfully installed spotipy-2.10.0\n"
     ]
    }
   ],
   "source": [
    "# install the package\n",
    "# !pip install spotipy"
   ]
  },
  {
   "cell_type": "code",
   "execution_count": 3,
   "metadata": {},
   "outputs": [],
   "source": [
    "from __future__ import print_function    # (at top of module)\n",
    "from spotipy.oauth2 import SpotifyClientCredentials\n",
    "import json\n",
    "import spotipy\n",
    "import time\n",
    "import sys"
   ]
  },
  {
   "cell_type": "code",
   "execution_count": 5,
   "metadata": {},
   "outputs": [
    {
     "name": "stdout",
     "output_type": "stream",
     "text": [
      "   1 spotify:playlist:6TZaZdZ2YPrCuBnl8qDBEB Vlog\n",
      "   2 spotify:playlist:0V9tGGZlC90BbrCY1FNmXD classical\n",
      "   3 spotify:playlist:7AKmNNcW1VqcKHwrGJBVly chillnight\n",
      "   4 spotify:playlist:63pNL4PuMMiLg5BSW0yTLk road trip\n",
      "   5 spotify:playlist:5xs3KPXahrJlsQaeAh3crc K-pop\n"
     ]
    }
   ],
   "source": [
    "#export my playlist\n",
    "client_credentials_manager = SpotifyClientCredentials(client_id='6dc054e3d1194241874db8c8e7fd446f', \n",
    "                                                      client_secret='46a26dc9512b42e8a8829e1f2b2d5b55')\n",
    "sp = spotipy.Spotify(client_credentials_manager=client_credentials_manager)\n",
    "\n",
    "playlists = sp.user_playlists('aujpv9lfhoctyrmyo8kpew77w')\n",
    "\n",
    "while playlists:\n",
    "    for i, playlist in enumerate(playlists['items']):\n",
    "        print(\"%4d %s %s\" % (i + 1 + playlists['offset'], playlist['uri'],  playlist['name']))\n",
    "    if playlists['next']:\n",
    "        playlists = sp.next(playlists)\n",
    "    else:\n",
    "        playlists = None"
   ]
  }
 ],
 "metadata": {
  "kernelspec": {
   "display_name": "Python 3",
   "language": "python",
   "name": "python3"
  },
  "language_info": {
   "codemirror_mode": {
    "name": "ipython",
    "version": 3
   },
   "file_extension": ".py",
   "mimetype": "text/x-python",
   "name": "python",
   "nbconvert_exporter": "python",
   "pygments_lexer": "ipython3",
   "version": "3.7.3"
  }
 },
 "nbformat": 4,
 "nbformat_minor": 2
}
